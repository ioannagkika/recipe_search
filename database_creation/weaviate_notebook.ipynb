{
 "cells": [
  {
   "cell_type": "markdown",
   "metadata": {},
   "source": [
    "## Introductory steps & Data preprocessing"
   ]
  },
  {
   "cell_type": "markdown",
   "metadata": {},
   "source": [
    "### Importing necessary libraries"
   ]
  },
  {
   "cell_type": "code",
   "execution_count": 3,
   "metadata": {},
   "outputs": [],
   "source": [
    "import weaviate\n",
    "from weaviate.classes.config import Configure, Property, DataType, VectorDistances\n",
    "\n",
    "import os\n",
    "import pandas as pd\n",
    "import ast"
   ]
  },
  {
   "cell_type": "markdown",
   "metadata": {},
   "source": [
    "### Loading the dataset"
   ]
  },
  {
   "cell_type": "markdown",
   "metadata": {},
   "source": [
    "Loading dataset to a pandas dataframe. The dataset used for the workflow is the [Recipe Dataset (over 2M) Food](https://www.kaggle.com/datasets/wilmerarltstrmberg/recipe-dataset-over-2m/data) from Kaggle."
   ]
  },
  {
   "cell_type": "code",
   "execution_count": 2,
   "metadata": {},
   "outputs": [
    {
     "data": {
      "text/html": [
       "<div>\n",
       "<style scoped>\n",
       "    .dataframe tbody tr th:only-of-type {\n",
       "        vertical-align: middle;\n",
       "    }\n",
       "\n",
       "    .dataframe tbody tr th {\n",
       "        vertical-align: top;\n",
       "    }\n",
       "\n",
       "    .dataframe thead th {\n",
       "        text-align: right;\n",
       "    }\n",
       "</style>\n",
       "<table border=\"1\" class=\"dataframe\">\n",
       "  <thead>\n",
       "    <tr style=\"text-align: right;\">\n",
       "      <th></th>\n",
       "      <th>title</th>\n",
       "      <th>ingredients</th>\n",
       "      <th>directions</th>\n",
       "      <th>link</th>\n",
       "      <th>source</th>\n",
       "      <th>NER</th>\n",
       "      <th>site</th>\n",
       "    </tr>\n",
       "  </thead>\n",
       "  <tbody>\n",
       "    <tr>\n",
       "      <th>0</th>\n",
       "      <td>No-Bake Nut Cookies</td>\n",
       "      <td>[\"1 c. firmly packed brown sugar\", \"1/2 c. eva...</td>\n",
       "      <td>[\"In a heavy 2-quart saucepan, mix brown sugar...</td>\n",
       "      <td>www.cookbooks.com/Recipe-Details.aspx?id=44874</td>\n",
       "      <td>Gathered</td>\n",
       "      <td>[\"bite size shredded rice biscuits\", \"vanilla\"...</td>\n",
       "      <td>www.cookbooks.com</td>\n",
       "    </tr>\n",
       "    <tr>\n",
       "      <th>1</th>\n",
       "      <td>Jewell Ball'S Chicken</td>\n",
       "      <td>[\"1 small jar chipped beef, cut up\", \"4 boned ...</td>\n",
       "      <td>[\"Place chipped beef on bottom of baking dish....</td>\n",
       "      <td>www.cookbooks.com/Recipe-Details.aspx?id=699419</td>\n",
       "      <td>Gathered</td>\n",
       "      <td>[\"cream of mushroom soup\", \"beef\", \"sour cream...</td>\n",
       "      <td>www.cookbooks.com</td>\n",
       "    </tr>\n",
       "    <tr>\n",
       "      <th>2</th>\n",
       "      <td>Creamy Corn</td>\n",
       "      <td>[\"2 (16 oz.) pkg. frozen corn\", \"1 (8 oz.) pkg...</td>\n",
       "      <td>[\"In a slow cooker, combine all ingredients. C...</td>\n",
       "      <td>www.cookbooks.com/Recipe-Details.aspx?id=10570</td>\n",
       "      <td>Gathered</td>\n",
       "      <td>[\"frozen corn\", \"pepper\", \"cream cheese\", \"gar...</td>\n",
       "      <td>www.cookbooks.com</td>\n",
       "    </tr>\n",
       "    <tr>\n",
       "      <th>3</th>\n",
       "      <td>Chicken Funny</td>\n",
       "      <td>[\"1 large whole chicken\", \"2 (10 1/2 oz.) cans...</td>\n",
       "      <td>[\"Boil and debone chicken.\", \"Put bite size pi...</td>\n",
       "      <td>www.cookbooks.com/Recipe-Details.aspx?id=897570</td>\n",
       "      <td>Gathered</td>\n",
       "      <td>[\"chicken gravy\", \"cream of mushroom soup\", \"c...</td>\n",
       "      <td>www.cookbooks.com</td>\n",
       "    </tr>\n",
       "    <tr>\n",
       "      <th>4</th>\n",
       "      <td>Reeses Cups(Candy)</td>\n",
       "      <td>[\"1 c. peanut butter\", \"3/4 c. graham cracker ...</td>\n",
       "      <td>[\"Combine first four ingredients and press in ...</td>\n",
       "      <td>www.cookbooks.com/Recipe-Details.aspx?id=659239</td>\n",
       "      <td>Gathered</td>\n",
       "      <td>[\"graham cracker crumbs\", \"powdered sugar\", \"p...</td>\n",
       "      <td>www.cookbooks.com</td>\n",
       "    </tr>\n",
       "    <tr>\n",
       "      <th>...</th>\n",
       "      <td>...</td>\n",
       "      <td>...</td>\n",
       "      <td>...</td>\n",
       "      <td>...</td>\n",
       "      <td>...</td>\n",
       "      <td>...</td>\n",
       "      <td>...</td>\n",
       "    </tr>\n",
       "    <tr>\n",
       "      <th>2231137</th>\n",
       "      <td>Sunny's Fake Crepes</td>\n",
       "      <td>[\"1/2 cup chocolate hazelnut spread (recommend...</td>\n",
       "      <td>[\"Spread hazelnut spread on 1 side of each tor...</td>\n",
       "      <td>www.foodnetwork.com/recipes/sunny-anderson/sun...</td>\n",
       "      <td>Recipes1M</td>\n",
       "      <td>[\"chocolate hazelnut spread\", \"marshmallows\", ...</td>\n",
       "      <td>www.foodnetwork.com</td>\n",
       "    </tr>\n",
       "    <tr>\n",
       "      <th>2231138</th>\n",
       "      <td>Devil Eggs</td>\n",
       "      <td>[\"1 dozen eggs\", \"1 paprika\", \"1 salt and pepp...</td>\n",
       "      <td>[\"Boil eggs on medium for 30mins.\", \"Then cool...</td>\n",
       "      <td>cookpad.com/us/recipes/355411-devil-eggs</td>\n",
       "      <td>Recipes1M</td>\n",
       "      <td>[\"choice\", \"miracle whip\", \"eggs\", \"relish\", \"...</td>\n",
       "      <td>cookpad.com</td>\n",
       "    </tr>\n",
       "    <tr>\n",
       "      <th>2231139</th>\n",
       "      <td>Extremely Easy and Quick - Namul Daikon Salad</td>\n",
       "      <td>[\"150 grams Daikon radish\", \"1 tbsp Sesame oil...</td>\n",
       "      <td>[\"Julienne the daikon and squeeze out the exce...</td>\n",
       "      <td>cookpad.com/us/recipes/153324-extremely-easy-a...</td>\n",
       "      <td>Recipes1M</td>\n",
       "      <td>[\"soy sauce\", \"radish\", \"white sesame seeds\", ...</td>\n",
       "      <td>cookpad.com</td>\n",
       "    </tr>\n",
       "    <tr>\n",
       "      <th>2231140</th>\n",
       "      <td>Pan-Roasted Pork Chops With Apple Fritters</td>\n",
       "      <td>[\"1 cup apple cider\", \"6 tablespoons sugar\", \"...</td>\n",
       "      <td>[\"In a large bowl, mix the apple cider with 4 ...</td>\n",
       "      <td>cooking.nytimes.com/recipes/1015164</td>\n",
       "      <td>Recipes1M</td>\n",
       "      <td>[\"apple cider\", \"egg\", \"sugar\", \"freshly groun...</td>\n",
       "      <td>cooking.nytimes.com</td>\n",
       "    </tr>\n",
       "    <tr>\n",
       "      <th>2231141</th>\n",
       "      <td>Polpette in Spicy Tomato Sauce</td>\n",
       "      <td>[\"1 pound ground veal\", \"1/2 pound sweet Itali...</td>\n",
       "      <td>[\"Preheat the oven to 350.\", \"In a bowl, mix t...</td>\n",
       "      <td>www.foodandwine.com/recipes/polpette-spicy-tom...</td>\n",
       "      <td>Recipes1M</td>\n",
       "      <td>[\"freshly grated pecorino romano cheese\", \"tom...</td>\n",
       "      <td>www.foodandwine.com</td>\n",
       "    </tr>\n",
       "  </tbody>\n",
       "</table>\n",
       "<p>2231142 rows × 7 columns</p>\n",
       "</div>"
      ],
      "text/plain": [
       "                                                 title  \\\n",
       "0                                  No-Bake Nut Cookies   \n",
       "1                                Jewell Ball'S Chicken   \n",
       "2                                          Creamy Corn   \n",
       "3                                        Chicken Funny   \n",
       "4                                 Reeses Cups(Candy)     \n",
       "...                                                ...   \n",
       "2231137                            Sunny's Fake Crepes   \n",
       "2231138                                     Devil Eggs   \n",
       "2231139  Extremely Easy and Quick - Namul Daikon Salad   \n",
       "2231140     Pan-Roasted Pork Chops With Apple Fritters   \n",
       "2231141                 Polpette in Spicy Tomato Sauce   \n",
       "\n",
       "                                               ingredients  \\\n",
       "0        [\"1 c. firmly packed brown sugar\", \"1/2 c. eva...   \n",
       "1        [\"1 small jar chipped beef, cut up\", \"4 boned ...   \n",
       "2        [\"2 (16 oz.) pkg. frozen corn\", \"1 (8 oz.) pkg...   \n",
       "3        [\"1 large whole chicken\", \"2 (10 1/2 oz.) cans...   \n",
       "4        [\"1 c. peanut butter\", \"3/4 c. graham cracker ...   \n",
       "...                                                    ...   \n",
       "2231137  [\"1/2 cup chocolate hazelnut spread (recommend...   \n",
       "2231138  [\"1 dozen eggs\", \"1 paprika\", \"1 salt and pepp...   \n",
       "2231139  [\"150 grams Daikon radish\", \"1 tbsp Sesame oil...   \n",
       "2231140  [\"1 cup apple cider\", \"6 tablespoons sugar\", \"...   \n",
       "2231141  [\"1 pound ground veal\", \"1/2 pound sweet Itali...   \n",
       "\n",
       "                                                directions  \\\n",
       "0        [\"In a heavy 2-quart saucepan, mix brown sugar...   \n",
       "1        [\"Place chipped beef on bottom of baking dish....   \n",
       "2        [\"In a slow cooker, combine all ingredients. C...   \n",
       "3        [\"Boil and debone chicken.\", \"Put bite size pi...   \n",
       "4        [\"Combine first four ingredients and press in ...   \n",
       "...                                                    ...   \n",
       "2231137  [\"Spread hazelnut spread on 1 side of each tor...   \n",
       "2231138  [\"Boil eggs on medium for 30mins.\", \"Then cool...   \n",
       "2231139  [\"Julienne the daikon and squeeze out the exce...   \n",
       "2231140  [\"In a large bowl, mix the apple cider with 4 ...   \n",
       "2231141  [\"Preheat the oven to 350.\", \"In a bowl, mix t...   \n",
       "\n",
       "                                                      link     source  \\\n",
       "0           www.cookbooks.com/Recipe-Details.aspx?id=44874   Gathered   \n",
       "1          www.cookbooks.com/Recipe-Details.aspx?id=699419   Gathered   \n",
       "2           www.cookbooks.com/Recipe-Details.aspx?id=10570   Gathered   \n",
       "3          www.cookbooks.com/Recipe-Details.aspx?id=897570   Gathered   \n",
       "4          www.cookbooks.com/Recipe-Details.aspx?id=659239   Gathered   \n",
       "...                                                    ...        ...   \n",
       "2231137  www.foodnetwork.com/recipes/sunny-anderson/sun...  Recipes1M   \n",
       "2231138           cookpad.com/us/recipes/355411-devil-eggs  Recipes1M   \n",
       "2231139  cookpad.com/us/recipes/153324-extremely-easy-a...  Recipes1M   \n",
       "2231140                cooking.nytimes.com/recipes/1015164  Recipes1M   \n",
       "2231141  www.foodandwine.com/recipes/polpette-spicy-tom...  Recipes1M   \n",
       "\n",
       "                                                       NER  \\\n",
       "0        [\"bite size shredded rice biscuits\", \"vanilla\"...   \n",
       "1        [\"cream of mushroom soup\", \"beef\", \"sour cream...   \n",
       "2        [\"frozen corn\", \"pepper\", \"cream cheese\", \"gar...   \n",
       "3        [\"chicken gravy\", \"cream of mushroom soup\", \"c...   \n",
       "4        [\"graham cracker crumbs\", \"powdered sugar\", \"p...   \n",
       "...                                                    ...   \n",
       "2231137  [\"chocolate hazelnut spread\", \"marshmallows\", ...   \n",
       "2231138  [\"choice\", \"miracle whip\", \"eggs\", \"relish\", \"...   \n",
       "2231139  [\"soy sauce\", \"radish\", \"white sesame seeds\", ...   \n",
       "2231140  [\"apple cider\", \"egg\", \"sugar\", \"freshly groun...   \n",
       "2231141  [\"freshly grated pecorino romano cheese\", \"tom...   \n",
       "\n",
       "                        site  \n",
       "0          www.cookbooks.com  \n",
       "1          www.cookbooks.com  \n",
       "2          www.cookbooks.com  \n",
       "3          www.cookbooks.com  \n",
       "4          www.cookbooks.com  \n",
       "...                      ...  \n",
       "2231137  www.foodnetwork.com  \n",
       "2231138          cookpad.com  \n",
       "2231139          cookpad.com  \n",
       "2231140  cooking.nytimes.com  \n",
       "2231141  www.foodandwine.com  \n",
       "\n",
       "[2231142 rows x 7 columns]"
      ]
     },
     "execution_count": 2,
     "metadata": {},
     "output_type": "execute_result"
    }
   ],
   "source": [
    "filename = \"recipes_data.csv\"\n",
    "df = pd.read_csv(filename)\n",
    "df"
   ]
  },
  {
   "cell_type": "markdown",
   "metadata": {},
   "source": [
    "### Preprocessing the dataset"
   ]
  },
  {
   "cell_type": "markdown",
   "metadata": {},
   "source": [
    "Let's see if the dataset is updated and the websites really exist. So, the unique websites of our dataset are the below."
   ]
  },
  {
   "cell_type": "code",
   "execution_count": 3,
   "metadata": {},
   "outputs": [
    {
     "name": "stdout",
     "output_type": "stream",
     "text": [
      "['www.cookbooks.com' 'www.allrecipes.com' 'www.food.com'\n",
      " 'recipes-plus.com' 'www.epicurious.com' 'food52.com' 'www.myrecipes.com'\n",
      " 'www.seriouseats.com' 'www.tasteofhome.com' 'tastykitchen.com'\n",
      " 'www.yummly.com' 'cookeatshare.com' 'www.foodnetwork.com' 'cookpad.com'\n",
      " 'www.kraftrecipes.com' 'online-cookbook.com' 'www.lovefood.com'\n",
      " 'www.landolakes.com' 'cooking.nytimes.com' 'allrecipes.com'\n",
      " 'www.foodgeeks.com' 'www.cookstr.com' 'recipeland.com'\n",
      " 'www.vegetariantimes.com' 'www.delish.com' 'www.foodandwine.com'\n",
      " 'www.chowhound.com' 'www.foodrepublic.com']\n"
     ]
    }
   ],
   "source": [
    "print(df['site'].unique())"
   ]
  },
  {
   "cell_type": "markdown",
   "metadata": {},
   "source": [
    "After visiting them, realized that 'www.cookbooks.com', 'recipes-plus.com', 'www.kraftrecipes.com' and 'www.cookstr.com' do not exist. So, since we want to return links to the visitors, we need to remove these sites. "
   ]
  },
  {
   "cell_type": "code",
   "execution_count": 4,
   "metadata": {},
   "outputs": [
    {
     "data": {
      "text/html": [
       "<div>\n",
       "<style scoped>\n",
       "    .dataframe tbody tr th:only-of-type {\n",
       "        vertical-align: middle;\n",
       "    }\n",
       "\n",
       "    .dataframe tbody tr th {\n",
       "        vertical-align: top;\n",
       "    }\n",
       "\n",
       "    .dataframe thead th {\n",
       "        text-align: right;\n",
       "    }\n",
       "</style>\n",
       "<table border=\"1\" class=\"dataframe\">\n",
       "  <thead>\n",
       "    <tr style=\"text-align: right;\">\n",
       "      <th></th>\n",
       "      <th>title</th>\n",
       "      <th>ingredients</th>\n",
       "      <th>directions</th>\n",
       "      <th>link</th>\n",
       "      <th>source</th>\n",
       "      <th>NER</th>\n",
       "      <th>site</th>\n",
       "    </tr>\n",
       "  </thead>\n",
       "  <tbody>\n",
       "    <tr>\n",
       "      <th>0</th>\n",
       "      <td>Deconstructed Screwdriver (The Raw Egg)</td>\n",
       "      <td>[\"1/4 cup orange juice, or as desired\", \"2 (1....</td>\n",
       "      <td>[\"Fill a food-safe silicon-based round ice mol...</td>\n",
       "      <td>www.allrecipes.com/recipe/241895/deconstructed...</td>\n",
       "      <td>Gathered</td>\n",
       "      <td>[\"jiggers vodka\", \"orange juice\"]</td>\n",
       "      <td>www.allrecipes.com</td>\n",
       "    </tr>\n",
       "    <tr>\n",
       "      <th>1</th>\n",
       "      <td>Kettle Corn</td>\n",
       "      <td>[\"1/4 cup vegetable oil\", \"1/4 cup white sugar...</td>\n",
       "      <td>[\"Heat the vegetable oil in a large pot over m...</td>\n",
       "      <td>www.allrecipes.com/recipe/20808/kettle-corn/</td>\n",
       "      <td>Gathered</td>\n",
       "      <td>[\"vegetable oil\", \"popcorn kernels\", \"white su...</td>\n",
       "      <td>www.allrecipes.com</td>\n",
       "    </tr>\n",
       "    <tr>\n",
       "      <th>2</th>\n",
       "      <td>Pop'S Fabulous Ajvar</td>\n",
       "      <td>[\"2 1/2 pounds firm, shiny eggplants\", \"3 larg...</td>\n",
       "      <td>[\"Preheat oven to 350 degrees F (175 degrees C...</td>\n",
       "      <td>www.allrecipes.com/recipe/238733/pops-fabulous...</td>\n",
       "      <td>Gathered</td>\n",
       "      <td>[\"eggplants\", \"green bell peppers\", \"red bell ...</td>\n",
       "      <td>www.allrecipes.com</td>\n",
       "    </tr>\n",
       "    <tr>\n",
       "      <th>3</th>\n",
       "      <td>Chipotle-Mango Guacamole</td>\n",
       "      <td>[\"4 avocados, mashed\", \"2 Roma (plum) tomatoes...</td>\n",
       "      <td>[\"Stir avocados, tomatoes, mango, cilantro, re...</td>\n",
       "      <td>www.allrecipes.com/recipe/241254/chipotle-mang...</td>\n",
       "      <td>Gathered</td>\n",
       "      <td>[\"sour cream\", \"ground cumin\", \"tomatoes\", \"pe...</td>\n",
       "      <td>www.allrecipes.com</td>\n",
       "    </tr>\n",
       "    <tr>\n",
       "      <th>4</th>\n",
       "      <td>Basic Homemade Ricotta Cheese</td>\n",
       "      <td>[\"7 cups whole milk\", \"1/2 cup heavy whipping ...</td>\n",
       "      <td>[\"Place milk, cream, and vinegar in a saucepan...</td>\n",
       "      <td>www.allrecipes.com/recipe/261696/basic-homemad...</td>\n",
       "      <td>Gathered</td>\n",
       "      <td>[\"heavy whipping cream\", \"white vinegar\", \"sal...</td>\n",
       "      <td>www.allrecipes.com</td>\n",
       "    </tr>\n",
       "    <tr>\n",
       "      <th>...</th>\n",
       "      <td>...</td>\n",
       "      <td>...</td>\n",
       "      <td>...</td>\n",
       "      <td>...</td>\n",
       "      <td>...</td>\n",
       "      <td>...</td>\n",
       "      <td>...</td>\n",
       "    </tr>\n",
       "    <tr>\n",
       "      <th>1263465</th>\n",
       "      <td>Sunny's Fake Crepes</td>\n",
       "      <td>[\"1/2 cup chocolate hazelnut spread (recommend...</td>\n",
       "      <td>[\"Spread hazelnut spread on 1 side of each tor...</td>\n",
       "      <td>www.foodnetwork.com/recipes/sunny-anderson/sun...</td>\n",
       "      <td>Recipes1M</td>\n",
       "      <td>[\"chocolate hazelnut spread\", \"marshmallows\", ...</td>\n",
       "      <td>www.foodnetwork.com</td>\n",
       "    </tr>\n",
       "    <tr>\n",
       "      <th>1263466</th>\n",
       "      <td>Devil Eggs</td>\n",
       "      <td>[\"1 dozen eggs\", \"1 paprika\", \"1 salt and pepp...</td>\n",
       "      <td>[\"Boil eggs on medium for 30mins.\", \"Then cool...</td>\n",
       "      <td>cookpad.com/us/recipes/355411-devil-eggs</td>\n",
       "      <td>Recipes1M</td>\n",
       "      <td>[\"choice\", \"miracle whip\", \"eggs\", \"relish\", \"...</td>\n",
       "      <td>cookpad.com</td>\n",
       "    </tr>\n",
       "    <tr>\n",
       "      <th>1263467</th>\n",
       "      <td>Extremely Easy and Quick - Namul Daikon Salad</td>\n",
       "      <td>[\"150 grams Daikon radish\", \"1 tbsp Sesame oil...</td>\n",
       "      <td>[\"Julienne the daikon and squeeze out the exce...</td>\n",
       "      <td>cookpad.com/us/recipes/153324-extremely-easy-a...</td>\n",
       "      <td>Recipes1M</td>\n",
       "      <td>[\"soy sauce\", \"radish\", \"white sesame seeds\", ...</td>\n",
       "      <td>cookpad.com</td>\n",
       "    </tr>\n",
       "    <tr>\n",
       "      <th>1263468</th>\n",
       "      <td>Pan-Roasted Pork Chops With Apple Fritters</td>\n",
       "      <td>[\"1 cup apple cider\", \"6 tablespoons sugar\", \"...</td>\n",
       "      <td>[\"In a large bowl, mix the apple cider with 4 ...</td>\n",
       "      <td>cooking.nytimes.com/recipes/1015164</td>\n",
       "      <td>Recipes1M</td>\n",
       "      <td>[\"apple cider\", \"egg\", \"sugar\", \"freshly groun...</td>\n",
       "      <td>cooking.nytimes.com</td>\n",
       "    </tr>\n",
       "    <tr>\n",
       "      <th>1263469</th>\n",
       "      <td>Polpette in Spicy Tomato Sauce</td>\n",
       "      <td>[\"1 pound ground veal\", \"1/2 pound sweet Itali...</td>\n",
       "      <td>[\"Preheat the oven to 350.\", \"In a bowl, mix t...</td>\n",
       "      <td>www.foodandwine.com/recipes/polpette-spicy-tom...</td>\n",
       "      <td>Recipes1M</td>\n",
       "      <td>[\"freshly grated pecorino romano cheese\", \"tom...</td>\n",
       "      <td>www.foodandwine.com</td>\n",
       "    </tr>\n",
       "  </tbody>\n",
       "</table>\n",
       "<p>1263470 rows × 7 columns</p>\n",
       "</div>"
      ],
      "text/plain": [
       "                                                 title  \\\n",
       "0              Deconstructed Screwdriver (The Raw Egg)   \n",
       "1                                          Kettle Corn   \n",
       "2                                 Pop'S Fabulous Ajvar   \n",
       "3                             Chipotle-Mango Guacamole   \n",
       "4                        Basic Homemade Ricotta Cheese   \n",
       "...                                                ...   \n",
       "1263465                            Sunny's Fake Crepes   \n",
       "1263466                                     Devil Eggs   \n",
       "1263467  Extremely Easy and Quick - Namul Daikon Salad   \n",
       "1263468     Pan-Roasted Pork Chops With Apple Fritters   \n",
       "1263469                 Polpette in Spicy Tomato Sauce   \n",
       "\n",
       "                                               ingredients  \\\n",
       "0        [\"1/4 cup orange juice, or as desired\", \"2 (1....   \n",
       "1        [\"1/4 cup vegetable oil\", \"1/4 cup white sugar...   \n",
       "2        [\"2 1/2 pounds firm, shiny eggplants\", \"3 larg...   \n",
       "3        [\"4 avocados, mashed\", \"2 Roma (plum) tomatoes...   \n",
       "4        [\"7 cups whole milk\", \"1/2 cup heavy whipping ...   \n",
       "...                                                    ...   \n",
       "1263465  [\"1/2 cup chocolate hazelnut spread (recommend...   \n",
       "1263466  [\"1 dozen eggs\", \"1 paprika\", \"1 salt and pepp...   \n",
       "1263467  [\"150 grams Daikon radish\", \"1 tbsp Sesame oil...   \n",
       "1263468  [\"1 cup apple cider\", \"6 tablespoons sugar\", \"...   \n",
       "1263469  [\"1 pound ground veal\", \"1/2 pound sweet Itali...   \n",
       "\n",
       "                                                directions  \\\n",
       "0        [\"Fill a food-safe silicon-based round ice mol...   \n",
       "1        [\"Heat the vegetable oil in a large pot over m...   \n",
       "2        [\"Preheat oven to 350 degrees F (175 degrees C...   \n",
       "3        [\"Stir avocados, tomatoes, mango, cilantro, re...   \n",
       "4        [\"Place milk, cream, and vinegar in a saucepan...   \n",
       "...                                                    ...   \n",
       "1263465  [\"Spread hazelnut spread on 1 side of each tor...   \n",
       "1263466  [\"Boil eggs on medium for 30mins.\", \"Then cool...   \n",
       "1263467  [\"Julienne the daikon and squeeze out the exce...   \n",
       "1263468  [\"In a large bowl, mix the apple cider with 4 ...   \n",
       "1263469  [\"Preheat the oven to 350.\", \"In a bowl, mix t...   \n",
       "\n",
       "                                                      link     source  \\\n",
       "0        www.allrecipes.com/recipe/241895/deconstructed...   Gathered   \n",
       "1             www.allrecipes.com/recipe/20808/kettle-corn/   Gathered   \n",
       "2        www.allrecipes.com/recipe/238733/pops-fabulous...   Gathered   \n",
       "3        www.allrecipes.com/recipe/241254/chipotle-mang...   Gathered   \n",
       "4        www.allrecipes.com/recipe/261696/basic-homemad...   Gathered   \n",
       "...                                                    ...        ...   \n",
       "1263465  www.foodnetwork.com/recipes/sunny-anderson/sun...  Recipes1M   \n",
       "1263466           cookpad.com/us/recipes/355411-devil-eggs  Recipes1M   \n",
       "1263467  cookpad.com/us/recipes/153324-extremely-easy-a...  Recipes1M   \n",
       "1263468                cooking.nytimes.com/recipes/1015164  Recipes1M   \n",
       "1263469  www.foodandwine.com/recipes/polpette-spicy-tom...  Recipes1M   \n",
       "\n",
       "                                                       NER  \\\n",
       "0                        [\"jiggers vodka\", \"orange juice\"]   \n",
       "1        [\"vegetable oil\", \"popcorn kernels\", \"white su...   \n",
       "2        [\"eggplants\", \"green bell peppers\", \"red bell ...   \n",
       "3        [\"sour cream\", \"ground cumin\", \"tomatoes\", \"pe...   \n",
       "4        [\"heavy whipping cream\", \"white vinegar\", \"sal...   \n",
       "...                                                    ...   \n",
       "1263465  [\"chocolate hazelnut spread\", \"marshmallows\", ...   \n",
       "1263466  [\"choice\", \"miracle whip\", \"eggs\", \"relish\", \"...   \n",
       "1263467  [\"soy sauce\", \"radish\", \"white sesame seeds\", ...   \n",
       "1263468  [\"apple cider\", \"egg\", \"sugar\", \"freshly groun...   \n",
       "1263469  [\"freshly grated pecorino romano cheese\", \"tom...   \n",
       "\n",
       "                        site  \n",
       "0         www.allrecipes.com  \n",
       "1         www.allrecipes.com  \n",
       "2         www.allrecipes.com  \n",
       "3         www.allrecipes.com  \n",
       "4         www.allrecipes.com  \n",
       "...                      ...  \n",
       "1263465  www.foodnetwork.com  \n",
       "1263466          cookpad.com  \n",
       "1263467          cookpad.com  \n",
       "1263468  cooking.nytimes.com  \n",
       "1263469  www.foodandwine.com  \n",
       "\n",
       "[1263470 rows x 7 columns]"
      ]
     },
     "execution_count": 4,
     "metadata": {},
     "output_type": "execute_result"
    }
   ],
   "source": [
    "excluded_sites = ['www.cookbooks.com', 'recipes-plus.com', 'www.kraftrecipes.com', 'www.cookstr.com']\n",
    "df_new = df[~df['site'].isin(excluded_sites)].reset_index(drop=True)\n",
    "df_new"
   ]
  },
  {
   "cell_type": "markdown",
   "metadata": {},
   "source": [
    "As our dataset is too large we will sample 6000 random rows to add them into our database."
   ]
  },
  {
   "cell_type": "code",
   "execution_count": 5,
   "metadata": {},
   "outputs": [],
   "source": [
    "df_sample = df_new.sample(n=6000, random_state=42)  # random_state is set for reproducibility"
   ]
  },
  {
   "cell_type": "markdown",
   "metadata": {},
   "source": [
    "Note that the NER column is a list of strings. Let's change the format and convert it to a string with comma separated elements."
   ]
  },
  {
   "cell_type": "code",
   "execution_count": 6,
   "metadata": {},
   "outputs": [
    {
     "data": {
      "text/plain": [
       "536743     [\"white cranberry juice\", \"blueberries\", \"water\"]\n",
       "641258     [\"lemons\", \"\\u00bc\", \"parmesan cheese\", \"fresh...\n",
       "1233476    [\"scallions\", \"cheddar cheese\", \"water\", \"shre...\n",
       "482320     [\"extra virgin olive oil\", \"t\", \"sweet cherry ...\n",
       "321919     [\"baking powder\", \"slivered almonds\", \"vanilla...\n",
       "                                 ...                        \n",
       "288769                           [\"flour\", \"natural yogurt\"]\n",
       "807749     [\"mustard seeds\", \"brown mustard\", \"pretzels\",...\n",
       "330830     [\"italian seasoning\", \"italian seasoned breadc...\n",
       "74593      [\"tomatoes\", \"red bell peppers\", \"basil\", \"bal...\n",
       "83332      [\"oil\", \"oregano\", \"hot pepper\", \"misc\", \"eggs...\n",
       "Name: NER, Length: 6000, dtype: object"
      ]
     },
     "execution_count": 6,
     "metadata": {},
     "output_type": "execute_result"
    }
   ],
   "source": [
    "df_sample[\"NER\"]"
   ]
  },
  {
   "cell_type": "code",
   "execution_count": 7,
   "metadata": {},
   "outputs": [],
   "source": [
    "df_sample[\"ner_new\"] = df_sample[\"NER\"].apply(ast.literal_eval)\n",
    "df_sample[\"ner_new\"] = df_sample[\"ner_new\"].apply(\", \".join)\n",
    "\n",
    "if 'Unnamed: 0' in df_sample.columns:\n",
    "    df_sample = df_sample.drop(columns=['Unnamed: 0'])"
   ]
  },
  {
   "cell_type": "code",
   "execution_count": 8,
   "metadata": {},
   "outputs": [],
   "source": [
    "df_sample.to_csv('sampled_data.csv', index=False)"
   ]
  },
  {
   "cell_type": "markdown",
   "metadata": {},
   "source": [
    "## Collection creation and data import"
   ]
  },
  {
   "cell_type": "markdown",
   "metadata": {},
   "source": [
    "Before running the code below, you need to start a local Docker instance and add OPENAI_API_KEY as environmental variable"
   ]
  },
  {
   "cell_type": "code",
   "execution_count": 4,
   "metadata": {},
   "outputs": [],
   "source": [
    "# If you are running the code in a virtual environmet, you need to uncomment the code below and add your OPENAI_API_KEY. Else, you can set it from terminal.\n",
    "# os.environ[\"OPENAI_API_KEY\"] = \"YOUR_API_KEY\""
   ]
  },
  {
   "cell_type": "markdown",
   "metadata": {},
   "source": [
    "### Connect to the Weaviate instance"
   ]
  },
  {
   "cell_type": "code",
   "execution_count": 5,
   "metadata": {},
   "outputs": [],
   "source": [
    "client = weaviate.connect_to_local(\n",
    "    host=\"localhost\",\n",
    "    port=8080,\n",
    "    grpc_port=50051,\n",
    "    headers={\"X-OpenAI-API-Key\": os.getenv('OPENAI_API_KEY')}\n",
    "    \n",
    ")"
   ]
  },
  {
   "cell_type": "markdown",
   "metadata": {},
   "source": [
    "### Collection creation"
   ]
  },
  {
   "cell_type": "markdown",
   "metadata": {},
   "source": [
    "Creating the collection with name \"Recipes\". It will have 5 properties, but we will only vectorize the \"ner_new\" property using the \"text-embedding-3-small\" vectorizer from OpenAI."
   ]
  },
  {
   "cell_type": "code",
   "execution_count": 7,
   "metadata": {},
   "outputs": [
    {
     "data": {
      "text/plain": [
       "<weaviate.collections.collection.Collection at 0x758a1977e950>"
      ]
     },
     "execution_count": 7,
     "metadata": {},
     "output_type": "execute_result"
    }
   ],
   "source": [
    "client.collections.create(\n",
    "    \"Recipes\",\n",
    "    vectorizer_config=Configure.Vectorizer.text2vec_openai(model=\"text-embedding-3-small\"),\n",
    "    vector_index_config=Configure.VectorIndex.hnsw(distance_metric=VectorDistances.COSINE),\n",
    "    properties=[\n",
    "        Property(name=\"title\", data_type=DataType.TEXT, skip_vectorization=True),\n",
    "        Property(name=\"ingredients\", data_type=DataType.TEXT, skip_vectorization=True),\n",
    "        Property(name=\"directions\", data_type=DataType.TEXT, skip_vectorization=True),\n",
    "        Property(name=\"link\", data_type=DataType.TEXT, skip_vectorization=True),\n",
    "        Property(name=\"ner_new\", data_type=DataType.TEXT, skip_vectorization=False),\n",
    "    ],\n",
    "    \n",
    ")"
   ]
  },
  {
   "cell_type": "markdown",
   "metadata": {},
   "source": [
    "### Import data"
   ]
  },
  {
   "cell_type": "markdown",
   "metadata": {},
   "source": [
    "Let's populate our database with data. We use the data from the \"sampled_data.csv\" that we created before and add them in batches."
   ]
  },
  {
   "cell_type": "code",
   "execution_count": 8,
   "metadata": {},
   "outputs": [],
   "source": [
    "collection = client.collections.get(\"Recipes\")\n",
    "\n",
    "with client.batch.fixed_size(batch_size=50) as batch:\n",
    "    with pd.read_csv(\n",
    "        \"sampled_data.csv\",\n",
    "        usecols=[\"title\", \"ingredients\", \"directions\", \"link\", \"ner_new\"],\n",
    "        chunksize=5,\n",
    "    ) as csv_iterator:\n",
    "        for chunk in csv_iterator:\n",
    "            for index, row in chunk.iterrows():\n",
    "                batch.add_object(\n",
    "                    collection=\"Recipes\",\n",
    "                        properties = {\n",
    "                            \"title\": row[\"title\"],\n",
    "                            \"ingredients\": row[\"ingredients\"],\n",
    "                            \"directions\": row[\"directions\"],\n",
    "                            \"link\": row[\"link\"],\n",
    "                            \"ner_new\": row[\"ner_new\"]\n",
    "                         }\n",
    "                )"
   ]
  },
  {
   "cell_type": "markdown",
   "metadata": {},
   "source": [
    "### Closing the client"
   ]
  },
  {
   "cell_type": "markdown",
   "metadata": {},
   "source": [
    "After ending with our experiments we can close the client"
   ]
  },
  {
   "cell_type": "code",
   "execution_count": 16,
   "metadata": {},
   "outputs": [],
   "source": [
    "#client.close() "
   ]
  }
 ],
 "metadata": {
  "kernelspec": {
   "display_name": ".venv",
   "language": "python",
   "name": "python3"
  },
  "language_info": {
   "codemirror_mode": {
    "name": "ipython",
    "version": 3
   },
   "file_extension": ".py",
   "mimetype": "text/x-python",
   "name": "python",
   "nbconvert_exporter": "python",
   "pygments_lexer": "ipython3",
   "version": "3.10.12"
  }
 },
 "nbformat": 4,
 "nbformat_minor": 2
}
